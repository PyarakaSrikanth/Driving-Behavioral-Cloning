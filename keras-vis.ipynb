{
 "cells": [
  {
   "cell_type": "code",
   "execution_count": 79,
   "metadata": {},
   "outputs": [],
   "source": [
    "import argparse\n",
    "import cv2\n",
    "import tensorflow as tf\n",
    "import os\n",
    "from keras import backend as K\n",
    "from keras.models import load_model"
   ]
  },
  {
   "cell_type": "code",
   "execution_count": 84,
   "metadata": {},
   "outputs": [],
   "source": [
    "if __name__ == 'main':\n",
    "    parser = argparse.ArgumentParser(description='Keras Visualization')\n",
    "    parser.add_argument(\n",
    "        'model',\n",
    "        type=str,\n",
    "        help='Path to model h5 file. Model should be on the same path.'\n",
    "    )\n",
    "    parser.add_argument(\n",
    "        'image_folder',\n",
    "        type=str,\n",
    "        nargs='?',\n",
    "        default='',\n",
    "        help='Path to image folder. This is where activations will be saved.'\n",
    "    )\n",
    "    \n",
    "    model_name = args.model\n",
    "    image_folder = args.image_folder\n",
    "    \n",
    "    \n",
    "else:\n",
    "    model_name = ...\n",
    "    image_folder = ...\n",
    "    \n",
    "if model_name == Ell\n",
    "model = load_model(model_name)\n",
    "\n"
   ]
  },
  {
   "cell_type": "code",
   "execution_count": 81,
   "metadata": {},
   "outputs": [],
   "source": [
    "input = model.input\n",
    "output = model.layers[3].output\n",
    "functor = K.function([input], [output])\n"
   ]
  },
  {
   "cell_type": "code",
   "execution_count": 85,
   "metadata": {},
   "outputs": [],
   "source": [
    "import numpy as np\n",
    "import matplotlib.pyplot as plt\n",
    "\n",
    "for filename in os.listdir(image_folder):\n",
    "    img = cv2.cvtColor(cv2.imread(image_folder+filename),cv2.COLOR_BGR2RGB)\n",
    "    activations = functor([img[None,:,:,:]])\n",
    "    \n",
    "    maps = activations[0]\n",
    "    maps = (maps.squeeze() + 0.5)* 255\n",
    "    maps = maps.astype(np.uint8)\n",
    "    \n",
    "    for i in range(maps.shape[-1]):\n",
    "        img_out = maps[:,:,i]\n",
    "        prefix,ext = filename.split('.')\n",
    "        cv2.imwrite(image_folder+prefix+'_map-'+str(i)+'.'+ext,img_out)\n",
    "  "
   ]
  }
 ],
 "metadata": {
  "kernelspec": {
   "display_name": "Python 3",
   "language": "python",
   "name": "python3"
  },
  "language_info": {
   "codemirror_mode": {
    "name": "ipython",
    "version": 3
   },
   "file_extension": ".py",
   "mimetype": "text/x-python",
   "name": "python",
   "nbconvert_exporter": "python",
   "pygments_lexer": "ipython3",
   "version": "3.5.2"
  },
  "widgets": {
   "state": {},
   "version": "1.1.2"
  }
 },
 "nbformat": 4,
 "nbformat_minor": 2
}
