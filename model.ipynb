{
 "cells": [
  {
   "cell_type": "code",
   "execution_count": 50,
   "metadata": {
    "collapsed": true
   },
   "outputs": [],
   "source": [
    "#All imports go here\n",
    "from keras.models import Sequential\n",
    "from keras.layers import Flatten,Dense\n",
    "\n",
    "import cv2\n",
    "import numpy as np\n",
    "import pandas as pd"
   ]
  },
  {
   "cell_type": "code",
   "execution_count": 51,
   "metadata": {
    "collapsed": false,
    "scrolled": true
   },
   "outputs": [],
   "source": [
    "# Load data\n",
    "DATA_DIR = './data/'\n",
    "LOGFILE_PATH = DATA_DIR + 'driving_log.csv'\n",
    "IMG_DIR = DATA_DIR + 'IMG/'\n",
    "\n",
    "logs = pd.read_csv(LOGFILE_PATH,sep=',',header=None)\n"
   ]
  },
  {
   "cell_type": "code",
   "execution_count": 52,
   "metadata": {
    "collapsed": false
   },
   "outputs": [],
   "source": [
    "# Load image data.\n",
    "img_paths = {}\n",
    "img_paths['center'] = list(logs[0])\n",
    "\n",
    "image_data = []\n",
    "\n",
    "for path in img_paths['center']:\n",
    "    file_name = path.split('/')[-1]\n",
    "    img = cv2.imread(IMG_DIR+file_name)\n",
    "    image_data.append(img)\n",
    "\n",
    "image_data = np.array(image_data)\n",
    "\n",
    "\n",
    "#Load steering angles\n",
    "steering_angles  = np.array(list(logs[3]))"
   ]
  },
  {
   "cell_type": "code",
   "execution_count": 53,
   "metadata": {
    "collapsed": false
   },
   "outputs": [
    {
     "name": "stdout",
     "output_type": "stream",
     "text": [
      "Train on 3248 samples, validate on 812 samples\n",
      "Epoch 1/10\n",
      "3s - loss: 11431546.9614 - val_loss: 6626.9833\n",
      "Epoch 2/10\n",
      "3s - loss: 6742.9121 - val_loss: 3303.8556\n",
      "Epoch 3/10\n",
      "3s - loss: 4709.9344 - val_loss: 3206.0857\n",
      "Epoch 4/10\n",
      "3s - loss: 3428.2355 - val_loss: 2175.9060\n",
      "Epoch 5/10\n",
      "3s - loss: 2454.0703 - val_loss: 1856.8597\n",
      "Epoch 6/10\n",
      "3s - loss: 2212.9226 - val_loss: 5987.9560\n",
      "Epoch 7/10\n",
      "3s - loss: 2683.4769 - val_loss: 1812.9627\n",
      "Epoch 8/10\n",
      "3s - loss: 2303.3853 - val_loss: 1758.0200\n",
      "Epoch 9/10\n",
      "3s - loss: 2424.4734 - val_loss: 1991.6734\n",
      "Epoch 10/10\n",
      "3s - loss: 2238.8377 - val_loss: 1479.3853\n"
     ]
    }
   ],
   "source": [
    "# Build and save model.\n",
    "model = Sequential()\n",
    "model.add(Flatten(input_shape=image_data.shape[1:]))\n",
    "model.add(Dense(1))\n",
    "\n",
    "model.compile(optimizer='adam', loss='mse')\n",
    "\n",
    "model.fit(image_data, steering_angles,  validation_split=0.2, shuffle=True,verbose=2)\n",
    "\n",
    "model.save('model.h5')"
   ]
  }
 ],
 "metadata": {
  "kernelspec": {
   "display_name": "Python 3",
   "language": "python",
   "name": "python3"
  },
  "language_info": {
   "codemirror_mode": {
    "name": "ipython",
    "version": 3
   },
   "file_extension": ".py",
   "mimetype": "text/x-python",
   "name": "python",
   "nbconvert_exporter": "python",
   "pygments_lexer": "ipython3",
   "version": "3.5.2"
  },
  "widgets": {
   "state": {},
   "version": "1.1.2"
  }
 },
 "nbformat": 4,
 "nbformat_minor": 2
}
