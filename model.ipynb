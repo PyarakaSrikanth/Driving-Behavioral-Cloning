{
 "cells": [
  {
   "cell_type": "code",
   "execution_count": 6,
   "metadata": {
    "collapsed": false
   },
   "outputs": [],
   "source": [
    "#All imports go here\n",
    "from keras.models import Sequential\n",
    "from keras.layers import Flatten,Dense, Lambda\n",
    "\n",
    "import cv2\n",
    "import numpy as np\n",
    "import pandas as pd"
   ]
  },
  {
   "cell_type": "code",
   "execution_count": 2,
   "metadata": {
    "collapsed": false,
    "scrolled": true
   },
   "outputs": [],
   "source": [
    "# Load data\n",
    "DATA_DIR = './data/'\n",
    "LOGFILE_PATH = DATA_DIR + 'driving_log.csv'\n",
    "IMG_DIR = DATA_DIR + 'IMG/'\n",
    "\n",
    "logs = pd.read_csv(LOGFILE_PATH,sep=',',header=None)\n"
   ]
  },
  {
   "cell_type": "code",
   "execution_count": 3,
   "metadata": {
    "collapsed": false
   },
   "outputs": [],
   "source": [
    "# Load image data.\n",
    "img_paths = {}\n",
    "img_paths['center'] = list(logs[0])\n",
    "\n",
    "image_data = []\n",
    "\n",
    "for path in img_paths['center']:\n",
    "    file_name = path.split('/')[-1]\n",
    "    img = cv2.imread(IMG_DIR+file_name)\n",
    "    image_data.append(img)\n",
    "\n",
    "image_data = np.array(image_data)\n",
    "\n",
    "\n",
    "#Load steering angles\n",
    "steering_angles  = np.array(list(logs[3]))"
   ]
  },
  {
   "cell_type": "code",
   "execution_count": 10,
   "metadata": {
    "collapsed": false
   },
   "outputs": [
    {
     "name": "stdout",
     "output_type": "stream",
     "text": [
      "Train on 3248 samples, validate on 812 samples\n",
      "Epoch 1/1\n",
      "3s - loss: 2.1626 - val_loss: 0.8813\n"
     ]
    }
   ],
   "source": [
    "# Build and save model.\n",
    "model = Sequential()\n",
    "model.add(Lambda(lambda x: x/255 - 0.5,input_shape=image_data.shape[1:]))\n",
    "model.add(Flatten())\n",
    "model.add(Dense(1))\n",
    "\n",
    "model.compile(optimizer='adam', loss='mse')\n",
    "\n",
    "model.fit(image_data, steering_angles,  nb_epoch=1, validation_split=0.2, shuffle=True,verbose=2)\n",
    "\n",
    "model.save('model.h5')"
   ]
  },
  {
   "cell_type": "code",
   "execution_count": null,
   "metadata": {
    "collapsed": true
   },
   "outputs": [],
   "source": []
  }
 ],
 "metadata": {
  "kernelspec": {
   "display_name": "Python 3",
   "language": "python",
   "name": "python3"
  },
  "language_info": {
   "codemirror_mode": {
    "name": "ipython",
    "version": 3
   },
   "file_extension": ".py",
   "mimetype": "text/x-python",
   "name": "python",
   "nbconvert_exporter": "python",
   "pygments_lexer": "ipython3",
   "version": "3.5.2"
  },
  "widgets": {
   "state": {},
   "version": "1.1.2"
  }
 },
 "nbformat": 4,
 "nbformat_minor": 2
}
