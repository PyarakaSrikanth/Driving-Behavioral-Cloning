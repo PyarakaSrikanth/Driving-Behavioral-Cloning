{
 "cells": [
  {
   "cell_type": "code",
   "execution_count": null,
   "metadata": {
    "collapsed": false
   },
   "outputs": [],
   "source": [
    "#All imports go here\n",
    "from keras.models import Sequential\n",
    "from keras.layers import Convolution2D, Cropping2D, Dropout, Flatten,Dense, Lambda, MaxPooling2D\n",
    "from sklearn.model_selection import train_test_split\n",
    "\n",
    "import cv2\n",
    "import numpy as np\n",
    "import pandas as pd"
   ]
  },
  {
   "cell_type": "code",
   "execution_count": null,
   "metadata": {
    "collapsed": false,
    "scrolled": true
   },
   "outputs": [],
   "source": [
    "# Load data\n",
    "DATA_NAME = 'f3b3new'\n",
    "DATA_DIR = './'+DATA_NAME+'/'\n",
    "LOGFILE_PATH = DATA_DIR + 'driving_log.csv'\n",
    "IMG_DIR = DATA_DIR + 'IMG/'\n",
    "\n",
    "logs = pd.read_csv(LOGFILE_PATH,sep=',',header=None)\n"
   ]
  },
  {
   "cell_type": "code",
   "execution_count": null,
   "metadata": {
    "collapsed": true
   },
   "outputs": [],
   "source": [
    "#Load steering angles\n",
    "steering_angles  = np.array(list(logs[3]))"
   ]
  },
  {
   "cell_type": "code",
   "execution_count": null,
   "metadata": {
    "collapsed": false
   },
   "outputs": [],
   "source": [
    "# Downsample near-zero examples.\n",
    "eps = 0.3 #Values in the range 0 +/- eps will be pruned\n",
    "near_zero_idx = np.where(abs(steering_angles) < eps)[0]\n",
    "\n",
    "delete_prob = 0.95\n",
    "delete_count = int(delete_prob * len(near_zero_idx))\n",
    "\n",
    "delete_indices = np.random.choice(near_zero_idx,delete_count,replace=False)\n",
    "\n",
    "\n",
    "# Update steering angles array.\n",
    "steering_angles = np.delete(steering_angles,delete_indices)\n",
    "\n",
    "# Load image data.\n",
    "img_paths = np.delete(list(logs[0]),delete_indices)"
   ]
  },
  {
   "cell_type": "code",
   "execution_count": null,
   "metadata": {
    "collapsed": false
   },
   "outputs": [],
   "source": [
    "# # Add steering data for right and left cameras.\n",
    "# CORRECTION_FACTOR = 0.2 # Steering correction factor for left and right images.\n",
    "# steering_angles  = np.hstack((steering_angles, steering_angles+CORRECTION_FACTOR, steering_angles-CORRECTION_FACTOR))\n",
    "\n",
    "# # Load additional image paths from left and right cameras.\n",
    "# img_paths = np.hstack((img_paths,\n",
    "#                        np.delete(list(logs[1]),delete_indices),\n",
    "#                        np.delete(list(logs[2]),delete_indices)))"
   ]
  },
  {
   "cell_type": "code",
   "execution_count": null,
   "metadata": {
    "collapsed": false
   },
   "outputs": [],
   "source": [
    "import matplotlib.pyplot as plt\n",
    "plt.hist(steering_angles,bins=np.linspace(-1,1,26))\n",
    "plt.show()"
   ]
  },
  {
   "cell_type": "code",
   "execution_count": null,
   "metadata": {
    "collapsed": false
   },
   "outputs": [],
   "source": [
    "# Load image data.\n",
    "image_data = []\n",
    "\n",
    "for path in img_paths:\n",
    "    file_name = path.split('/')[-1]\n",
    "    img = cv2.cvtColor(cv2.imread(IMG_DIR+file_name),cv2.COLOR_BGR2RGB)\n",
    "    image_data.append(img)\n",
    "\n",
    "image_data = np.array(image_data)"
   ]
  },
  {
   "cell_type": "code",
   "execution_count": null,
   "metadata": {
    "collapsed": false
   },
   "outputs": [],
   "source": [
    "# Augment data by flipping images and steering angles.\n",
    "image_data_flipped = np.empty_like(image_data)\n",
    "\n",
    "for i in range(len(image_data)):\n",
    "    image_data_flipped[i] = np.fliplr(image_data[i])\n",
    "    \n",
    "steering_angles_flipped = -steering_angles\n",
    "\n",
    "\n",
    "image_data = np.vstack((image_data,image_data))\n",
    "steering_angles = np.hstack((steering_angles,steering_angles_flipped))\n"
   ]
  },
  {
   "cell_type": "code",
   "execution_count": null,
   "metadata": {
    "collapsed": false
   },
   "outputs": [],
   "source": [
    "# test-train split\n",
    "image_data_train, image_data_test, steering_angles_train,steering_angles_test =\\\n",
    "train_test_split(image_data,steering_angles,train_size=0.6)"
   ]
  },
  {
   "cell_type": "code",
   "execution_count": null,
   "metadata": {
    "collapsed": false
   },
   "outputs": [],
   "source": [
    "# Build and save model.\n",
    "model = Sequential()\n",
    "model.add(Lambda(lambda x: x/255 - 0.5,input_shape=image_data.shape[1:]))\n",
    "model.add(Cropping2D(((70,25),(0,0))))\n",
    "model.add(Convolution2D(6,5,5,activation='relu'))\n",
    "#model.add(Dropout(0.3))\n",
    "model.add(MaxPooling2D())\n",
    "model.add(Convolution2D(16,5,5,activation='relu'))\n",
    "#model.add(Dropout(0.3))\n",
    "model.add(MaxPooling2D())\n",
    "model.add(Flatten())\n",
    "model.add(Dense(1000,activation='relu'))\n",
    "#model.add(Dropout(0.3))\n",
    "model.add(Dense(400,activation='relu'))\n",
    "#model.add(Dropout(0.3))\n",
    "model.add(Dense(100,activation='relu'))\n",
    "#model.add(Dropout(0.3))\n",
    "model.add(Dense(1))\n",
    "\n",
    "model.compile(optimizer='adam', loss='mse')\n",
    "\n",
    "model.fit(image_data_train, steering_angles_train,  nb_epoch=2, validation_split=0.2, shuffle=True,verbose=2)\n",
    "print(\"Test loss: {:.3f}\".format(model.evaluate(image_data_test,steering_angles_test,verbose=2)))\n",
    "\n",
    "model.save('lenet5'+DATA_NAME+'.h5')"
   ]
  },
  {
   "cell_type": "code",
   "execution_count": null,
   "metadata": {
    "collapsed": false
   },
   "outputs": [],
   "source": [
    "for i in range(10):\n",
    "    plt.imshow(image_data_test[i])\n",
    "    plt.title(model.predict(image_data_test[i:i+1],batch_size=1,verbose=2))\n",
    "    plt.show()"
   ]
  },
  {
   "cell_type": "code",
   "execution_count": null,
   "metadata": {
    "collapsed": false
   },
   "outputs": [],
   "source": [
    "import os\n",
    "filenames = os.listdir('./snapshots2')\n",
    "\n",
    "if not os.path.isdir('./snapshots2-predictions'):\n",
    "    os.mkdir('./snapshots2-predictions')\n",
    "\n",
    "for filename in filenames:\n",
    "    imgdata = cv2.cvtColor(cv2.imread('./snapshots2/'+filename),cv2.COLOR_BGR2RGB)\n",
    "    prediction = model.predict(imgdata[None,:,:,:],batch_size=1,verbose=2)\n",
    "    cv2.putText(imgdata,str(prediction),(0,100),cv2.FONT_HERSHEY_PLAIN,1.0,0)\n",
    "    cv2.imwrite('./snapshots2-predictions/'+filename,imgdata)"
   ]
  }
 ],
 "metadata": {
  "kernelspec": {
   "display_name": "Python 3",
   "language": "python",
   "name": "python3"
  },
  "language_info": {
   "codemirror_mode": {
    "name": "ipython",
    "version": 3
   },
   "file_extension": ".py",
   "mimetype": "text/x-python",
   "name": "python",
   "nbconvert_exporter": "python",
   "pygments_lexer": "ipython3",
   "version": "3.5.2"
  },
  "widgets": {
   "state": {},
   "version": "1.1.2"
  }
 },
 "nbformat": 4,
 "nbformat_minor": 2
}
