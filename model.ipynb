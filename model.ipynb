{
 "cells": [
  {
   "cell_type": "code",
   "execution_count": 10,
   "metadata": {
    "collapsed": false
   },
   "outputs": [],
   "source": [
    "#All imports go here\n",
    "from keras.models import Sequential\n",
    "from keras.layers import Convolution2D, Flatten,Dense, Lambda, MaxPooling2D\n",
    "from keras.regularizers import l2\n",
    "\n",
    "import cv2\n",
    "import numpy as np\n",
    "import pandas as pd"
   ]
  },
  {
   "cell_type": "code",
   "execution_count": 11,
   "metadata": {
    "collapsed": false,
    "scrolled": true
   },
   "outputs": [],
   "source": [
    "# Load data\n",
    "DATA_DIR = './data/'\n",
    "LOGFILE_PATH = DATA_DIR + 'driving_log.csv'\n",
    "IMG_DIR = DATA_DIR + 'IMG/'\n",
    "\n",
    "logs = pd.read_csv(LOGFILE_PATH,sep=',',header=None)\n"
   ]
  },
  {
   "cell_type": "code",
   "execution_count": 12,
   "metadata": {
    "collapsed": false
   },
   "outputs": [],
   "source": [
    "# Load image data.\n",
    "CORRECTION_FACTOR = 0.2 # Steering correction factor for left and right images.\n",
    "img_paths = list(logs[0]) + list(logs[1]) + list(logs[2])\n",
    "\n",
    "image_data = []\n",
    "\n",
    "for path in img_paths:\n",
    "    file_name = path.split('/')[-1]\n",
    "    img = cv2.imread(IMG_DIR+file_name)\n",
    "    image_data.append(img)\n",
    "\n",
    "image_data = np.array(image_data)\n",
    "\n",
    "\n",
    "#Load steering angles\n",
    "steering_angles  = np.array(list(logs[3]))\n",
    "steering_angles  = np.hstack((steering_angles, steering_angles+CORRECTION_FACTOR, steering_angles-CORRECTION_FACTOR))\n",
    "\n",
    "\n"
   ]
  },
  {
   "cell_type": "code",
   "execution_count": 13,
   "metadata": {
    "collapsed": false
   },
   "outputs": [],
   "source": [
    "# Augment data by flipping images and steering angles.\n",
    "image_data_flipped = np.empty_like(image_data)\n",
    "\n",
    "for i in range(len(image_data)):\n",
    "    image_data_flipped[i] = np.fliplr(image_data[i])\n",
    "    \n",
    "steering_angles_flipped = -steering_angles\n",
    "\n",
    "\n",
    "image_data = np.vstack((image_data,image_data))\n",
    "steering_angles = np.hstack((steering_angles,steering_angles_flipped))\n"
   ]
  },
  {
   "cell_type": "code",
   "execution_count": 15,
   "metadata": {
    "collapsed": false
   },
   "outputs": [
    {
     "name": "stdout",
     "output_type": "stream",
     "text": [
      "Train on 26673 samples, validate on 6669 samples\n",
      "Epoch 1/6\n",
      "65s - loss: 0.6360 - val_loss: 0.3426\n",
      "Epoch 2/6\n",
      "65s - loss: 0.2107 - val_loss: 0.3137\n",
      "Epoch 3/6\n",
      "65s - loss: 0.1355 - val_loss: 0.2704\n",
      "Epoch 4/6\n",
      "65s - loss: 0.0927 - val_loss: 0.2501\n",
      "Epoch 5/6\n",
      "65s - loss: 0.0726 - val_loss: 0.2456\n",
      "Epoch 6/6\n",
      "65s - loss: 0.0654 - val_loss: 0.2126\n"
     ]
    }
   ],
   "source": [
    "# Build and save model.\n",
    "model = Sequential()\n",
    "model.add(Lambda(lambda x: x/255 - 0.5,input_shape=image_data.shape[1:]))\n",
    "model.add(Convolution2D(6,5,5,activation='relu',W_regularizer=l2(),b_regularizer=l2()))\n",
    "model.add(MaxPooling2D())\n",
    "model.add(Convolution2D(16,5,5,activation='relu',W_regularizer=l2(),b_regularizer=l2()))\n",
    "model.add(MaxPooling2D())\n",
    "model.add(Flatten())\n",
    "model.add(Dense(120,activation='relu',W_regularizer=l2(),b_regularizer=l2()))\n",
    "model.add(Dense(84,activation='relu',W_regularizer=l2(),b_regularizer=l2()))\n",
    "model.add(Dense(1))\n",
    "\n",
    "model.compile(optimizer='adam', loss='mse')\n",
    "\n",
    "model.fit(image_data, steering_angles,  nb_epoch=6,validation_split=0.2, shuffle=True,verbose=2)\n",
    "\n",
    "model.save('lenet5.4.h5')"
   ]
  },
  {
   "cell_type": "code",
   "execution_count": null,
   "metadata": {
    "collapsed": true
   },
   "outputs": [],
   "source": []
  }
 ],
 "metadata": {
  "kernelspec": {
   "display_name": "Python 3",
   "language": "python",
   "name": "python3"
  },
  "language_info": {
   "codemirror_mode": {
    "name": "ipython",
    "version": 3
   },
   "file_extension": ".py",
   "mimetype": "text/x-python",
   "name": "python",
   "nbconvert_exporter": "python",
   "pygments_lexer": "ipython3",
   "version": "3.5.2"
  },
  "widgets": {
   "state": {},
   "version": "1.1.2"
  }
 },
 "nbformat": 4,
 "nbformat_minor": 2
}
