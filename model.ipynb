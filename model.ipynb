{
 "cells": [
  {
   "cell_type": "code",
   "execution_count": 19,
   "metadata": {
    "collapsed": false
   },
   "outputs": [],
   "source": [
    "#All imports go here\n",
    "from keras.models import Sequential\n",
    "from keras.layers import Convolution2D, Flatten,Dense, Lambda, MaxPooling2D\n",
    "from keras.regularizers import l2\n",
    "\n",
    "import cv2\n",
    "import numpy as np\n",
    "import pandas as pd"
   ]
  },
  {
   "cell_type": "code",
   "execution_count": 20,
   "metadata": {
    "collapsed": false,
    "scrolled": true
   },
   "outputs": [],
   "source": [
    "# Load data\n",
    "DATA_DIR = './data/'\n",
    "LOGFILE_PATH = DATA_DIR + 'driving_log.csv'\n",
    "IMG_DIR = DATA_DIR + 'IMG/'\n",
    "\n",
    "logs = pd.read_csv(LOGFILE_PATH,sep=',',header=None)\n"
   ]
  },
  {
   "cell_type": "code",
   "execution_count": 21,
   "metadata": {
    "collapsed": false
   },
   "outputs": [],
   "source": [
    "# Load image data.\n",
    "CORRECTION_FACTOR = 0.2 # Steering correction factor for left and right images.\n",
    "img_paths = list(logs[0]) + list(logs[1]) + list(logs[2])\n",
    "\n",
    "image_data = []\n",
    "\n",
    "for path in img_paths:\n",
    "    file_name = path.split('/')[-1]\n",
    "    img = cv2.imread(IMG_DIR+file_name)\n",
    "    image_data.append(img)\n",
    "\n",
    "image_data = np.array(image_data)\n",
    "\n",
    "\n",
    "#Load steering angles\n",
    "steering_angles  = np.array(list(logs[3]))\n",
    "steering_angles  = np.hstack((steering_angles, steering_angles+CORRECTION_FACTOR, steering_angles-CORRECTION_FACTOR))\n",
    "\n",
    "\n"
   ]
  },
  {
   "cell_type": "code",
   "execution_count": 22,
   "metadata": {
    "collapsed": false
   },
   "outputs": [],
   "source": [
    "# Augment data by flipping images and steering angles.\n",
    "image_data_flipped = np.empty_like(image_data)\n",
    "\n",
    "for i in range(len(image_data)):\n",
    "    image_data_flipped[i] = np.fliplr(image_data[i])\n",
    "    \n",
    "steering_angles_flipped = -steering_angles\n",
    "\n",
    "\n",
    "image_data = np.vstack((image_data,image_data))\n",
    "steering_angles = np.hstack((steering_angles,steering_angles_flipped))\n"
   ]
  },
  {
   "cell_type": "code",
   "execution_count": 23,
   "metadata": {
    "collapsed": false
   },
   "outputs": [
    {
     "name": "stdout",
     "output_type": "stream",
     "text": [
      "Train on 19488 samples, validate on 4872 samples\n",
      "Epoch 1/3\n",
      "47s - loss: 5.0614 - val_loss: 0.0849\n",
      "Epoch 2/3\n",
      "46s - loss: 0.0446 - val_loss: 0.0860\n",
      "Epoch 3/3\n",
      "46s - loss: 0.0447 - val_loss: 0.0888\n"
     ]
    }
   ],
   "source": [
    "# Build and save model.\n",
    "model = Sequential()\n",
    "model.add(Lambda(lambda x: x/255 - 0.5,input_shape=image_data.shape[1:]))\n",
    "model.add(Convolution2D(6,5,5,activation='relu',W_regularizer=l2(),b_regularizer=l2()))\n",
    "model.add(MaxPooling2D())\n",
    "model.add(Convolution2D(16,5,5,activation='relu',W_regularizer=l2(),b_regularizer=l2()))\n",
    "model.add(MaxPooling2D())\n",
    "model.add(Flatten())\n",
    "model.add(Dense(120,activation='relu',W_regularizer=l2(0.5),b_regularizer=l2(0.5)))\n",
    "model.add(Dense(84,activation='relu',W_regularizer=l2(0.5),b_regularizer=l2(0.5)))\n",
    "model.add(Dense(1))\n",
    "\n",
    "model.compile(optimizer='adam', loss='mse')\n",
    "\n",
    "model.fit(image_data, steering_angles,  nb_epoch=3,validation_split=0.2, shuffle=True,verbose=2)\n",
    "\n",
    "model.save('lenet5.3.h5')"
   ]
  },
  {
   "cell_type": "code",
   "execution_count": null,
   "metadata": {
    "collapsed": true
   },
   "outputs": [],
   "source": []
  }
 ],
 "metadata": {
  "kernelspec": {
   "display_name": "Python 3",
   "language": "python",
   "name": "python3"
  },
  "language_info": {
   "codemirror_mode": {
    "name": "ipython",
    "version": 3
   },
   "file_extension": ".py",
   "mimetype": "text/x-python",
   "name": "python",
   "nbconvert_exporter": "python",
   "pygments_lexer": "ipython3",
   "version": "3.5.2"
  },
  "widgets": {
   "state": {},
   "version": "1.1.2"
  }
 },
 "nbformat": 4,
 "nbformat_minor": 2
}
